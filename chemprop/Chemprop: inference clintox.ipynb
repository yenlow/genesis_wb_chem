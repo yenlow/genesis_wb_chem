{
 "cells": [
  {
   "cell_type": "markdown",
   "metadata": {
    "application/vnd.databricks.v1+cell": {
     "cellMetadata": {
      "byteLimit": 2048000,
      "rowLimit": 10000
     },
     "inputWidgets": {},
     "nuid": "17355f12-3729-435c-ac37-ded93e01defe",
     "showTitle": false,
     "tableResultSettingsMap": {},
     "title": ""
    }
   },
   "source": [
    "# Load a pretrained model for inferencing\n",
    "* Dataset: Drugbank\n",
    "* Model: trained on ClinTox in [NB](https://adb-830292400663869.9.azuredatabricks.net/editor/notebooks/2340616571585910?o=830292400663869). Model is loaded from mlflow"
   ]
  },
  {
   "cell_type": "code",
   "execution_count": 0,
   "metadata": {
    "application/vnd.databricks.v1+cell": {
     "cellMetadata": {
      "byteLimit": 2048000,
      "rowLimit": 10000
     },
     "inputWidgets": {},
     "nuid": "46b2b14b-9136-4e47-a50d-42d69a8f4de3",
     "showTitle": false,
     "tableResultSettingsMap": {},
     "title": ""
    }
   },
   "outputs": [],
   "source": [
    "%pip install chemprop rdkit-pypi mlflow\n",
    "dbutils.library.restartPython()"
   ]
  },
  {
   "cell_type": "code",
   "execution_count": 0,
   "metadata": {
    "application/vnd.databricks.v1+cell": {
     "cellMetadata": {
      "byteLimit": 2048000,
      "rowLimit": 10000
     },
     "inputWidgets": {},
     "nuid": "eef78b96-60ed-4425-a34d-0d0a79e0e32b",
     "showTitle": false,
     "tableResultSettingsMap": {},
     "title": ""
    }
   },
   "outputs": [],
   "source": [
    "%pip freeze"
   ]
  },
  {
   "cell_type": "code",
   "execution_count": 0,
   "metadata": {
    "application/vnd.databricks.v1+cell": {
     "cellMetadata": {
      "byteLimit": 2048000,
      "rowLimit": 10000
     },
     "inputWidgets": {},
     "nuid": "553cb3cd-1927-44d1-bb87-194ab72c724a",
     "showTitle": false,
     "tableResultSettingsMap": {},
     "title": ""
    }
   },
   "outputs": [],
   "source": [
    "import numpy as np\n",
    "import pandas as pd\n",
    "from pathlib import Path\n",
    "import mlflow.pytorch\n",
    "import torch\n",
    "from lightning.pytorch import Trainer\n",
    "\n",
    "from chemprop import data, featurizers, models\n",
    "from chemprop import nn"
   ]
  },
  {
   "cell_type": "code",
   "execution_count": 0,
   "metadata": {
    "application/vnd.databricks.v1+cell": {
     "cellMetadata": {
      "byteLimit": 2048000,
      "rowLimit": 10000
     },
     "inputWidgets": {},
     "nuid": "07dd90f6-204b-4b1b-8ac0-ceccb0b81a69",
     "showTitle": false,
     "tableResultSettingsMap": {},
     "title": ""
    }
   },
   "outputs": [],
   "source": [
    "# TODO: put into a config dict when available\n",
    "catalog = \"genesis_workbench\"\n",
    "schema = \"dev_chem\"\n",
    "chemprop_dir = f\"{Path.cwd()}\"\n",
    "# Load registered model for inferencing\n",
    "# if legacy WS\n",
    "registered_model = \"clintox\"\n",
    "# if UC\n",
    "#registered_model = f\"{catalog}.{schema}.clintox\"\n",
    "model_version = 2 #or set to latest\n",
    "# Load data for inferencing\n",
    "data_table = f\"{catalog}.{schema}.drugbank\"\n",
    "smiles_column = \"smiles\"\n",
    "target_column = \"ClinTox\"\n",
    "\n",
    "chemprop_dir"
   ]
  },
  {
   "cell_type": "markdown",
   "metadata": {
    "application/vnd.databricks.v1+cell": {
     "cellMetadata": {
      "byteLimit": 2048000,
      "rowLimit": 10000
     },
     "inputWidgets": {},
     "nuid": "fb39e70f-7d2e-4eb4-9c18-eb95ef4178a8",
     "showTitle": false,
     "tableResultSettingsMap": {},
     "title": ""
    }
   },
   "source": [
    "#### Load appropriate dataset\n",
    "Predict clintox of compounds in DrugBank"
   ]
  },
  {
   "cell_type": "code",
   "execution_count": 0,
   "metadata": {
    "application/vnd.databricks.v1+cell": {
     "cellMetadata": {
      "byteLimit": 2048000,
      "rowLimit": 10000
     },
     "inputWidgets": {},
     "nuid": "2bb5c551-c5b7-475c-be47-411efbb36689",
     "showTitle": false,
     "tableResultSettingsMap": {},
     "title": ""
    }
   },
   "outputs": [],
   "source": [
    "df = spark.table(data_table)\n",
    "display(df)"
   ]
  },
  {
   "cell_type": "code",
   "execution_count": 0,
   "metadata": {
    "application/vnd.databricks.v1+cell": {
     "cellMetadata": {
      "byteLimit": 2048000,
      "rowLimit": 10000
     },
     "inputWidgets": {},
     "nuid": "6ede359a-a1a5-4ed9-ae79-f78091c327b8",
     "showTitle": false,
     "tableResultSettingsMap": {},
     "title": ""
    }
   },
   "outputs": [],
   "source": [
    "# Load from SMILES\n",
    "smis = df.select(smiles_column).toPandas()[smiles_column].values\n",
    "smis"
   ]
  },
  {
   "cell_type": "code",
   "execution_count": 0,
   "metadata": {
    "application/vnd.databricks.v1+cell": {
     "cellMetadata": {
      "byteLimit": 2048000,
      "rowLimit": 10000
     },
     "inputWidgets": {},
     "nuid": "827b889a-df70-43d7-983b-cc6ac737448c",
     "showTitle": false,
     "tableResultSettingsMap": {},
     "title": ""
    }
   },
   "outputs": [],
   "source": [
    "# SMILES -> MoleculeDatapoint\n",
    "test_data = [data.MoleculeDatapoint.from_smi(smi) for smi in smis]\n",
    "\n",
    "# Featurization: MoleculeDatapoint -> graph descriptors (all in MoleculeDataset)\n",
    "featurizer = featurizers.SimpleMoleculeMolGraphFeaturizer()\n",
    "test_dset = data.MoleculeDataset(test_data, featurizer=featurizer)\n",
    "\n",
    "# Convert into torch dataloader\n",
    "test_loader = data.build_dataloader(test_dset, shuffle=False)"
   ]
  },
  {
   "cell_type": "markdown",
   "metadata": {
    "application/vnd.databricks.v1+cell": {
     "cellMetadata": {
      "byteLimit": 2048000,
      "rowLimit": 10000
     },
     "inputWidgets": {},
     "nuid": "89e3a5e4-e016-4f59-8d90-7474eb27108e",
     "showTitle": false,
     "tableResultSettingsMap": {},
     "title": ""
    }
   },
   "source": [
    "#### Load appropriate model from mlflow"
   ]
  },
  {
   "cell_type": "code",
   "execution_count": 0,
   "metadata": {
    "application/vnd.databricks.v1+cell": {
     "cellMetadata": {
      "byteLimit": 2048000,
      "rowLimit": 10000
     },
     "inputWidgets": {},
     "nuid": "fb09efe3-61dc-4cb6-b347-a85411547470",
     "showTitle": false,
     "tableResultSettingsMap": {},
     "title": ""
    }
   },
   "outputs": [],
   "source": [
    "# run_id = run.info.run_id\n",
    "# run_id = \"527482b86f7242ceac6dfea52c3a76ab\"\n",
    "# model_uri = f\"runs:/{run_id}/model\"\n",
    "model_uri = f\"models:/{registered_model}/{model_version}\"\n",
    "model = mlflow.pytorch.load_model(model_uri)"
   ]
  },
  {
   "cell_type": "code",
   "execution_count": 0,
   "metadata": {
    "application/vnd.databricks.v1+cell": {
     "cellMetadata": {
      "byteLimit": 2048000,
      "rowLimit": 10000
     },
     "inputWidgets": {},
     "nuid": "92eaf08b-af42-4238-a58e-a95e1f783562",
     "showTitle": false,
     "tableResultSettingsMap": {},
     "title": ""
    }
   },
   "outputs": [],
   "source": [
    "with torch.inference_mode():\n",
    "    trainer = Trainer(\n",
    "        logger=None,\n",
    "        enable_progress_bar=True,\n",
    "        accelerator=\"auto\",\n",
    "        devices=1\n",
    "    )\n",
    "    test_preds = trainer.predict(model, test_loader)"
   ]
  },
  {
   "cell_type": "code",
   "execution_count": 0,
   "metadata": {
    "application/vnd.databricks.v1+cell": {
     "cellMetadata": {
      "byteLimit": 2048000,
      "rowLimit": 10000
     },
     "inputWidgets": {},
     "nuid": "e82a8fd6-a2f9-4f2c-9635-64bbde4c1b9f",
     "showTitle": false,
     "tableResultSettingsMap": {},
     "title": ""
    }
   },
   "outputs": [],
   "source": [
    "test_preds"
   ]
  },
  {
   "cell_type": "code",
   "execution_count": 0,
   "metadata": {
    "application/vnd.databricks.v1+cell": {
     "cellMetadata": {
      "byteLimit": 2048000,
      "rowLimit": 10000
     },
     "inputWidgets": {},
     "nuid": "8cf5a265-9313-47b5-8cbd-4ccf6c2f5a49",
     "showTitle": false,
     "tableResultSettingsMap": {},
     "title": ""
    }
   },
   "outputs": [
    {
     "output_type": "display_data",
     "data": {
      "text/plain": [
       "Databricks visualization. Run in Databricks to view."
      ]
     },
     "metadata": {
      "application/vnd.databricks.v1.subcommand+json": {
       "baseErrorDetails": null,
       "bindings": {},
       "collapsed": false,
       "command": "%python\n__backend_agg_display_orig = display\n__backend_agg_dfs = []\ndef __backend_agg_display_new(df):\n    __backend_agg_df_modules = [\"pandas.core.frame\", \"databricks.koalas.frame\", \"pyspark.sql.dataframe\", \"pyspark.pandas.frame\", \"pyspark.sql.connect.dataframe\"]\n    if (type(df).__module__ in __backend_agg_df_modules and type(df).__name__ == 'DataFrame') or isinstance(df, list):\n        __backend_agg_dfs.append(df)\n\ndisplay = __backend_agg_display_new\n\ndef __backend_agg_user_code_fn():\n    import base64\n    exec(base64.standard_b64decode(\"ZGZfdGVzdCA9IGRmLnNlbGVjdChbJ25hbWUnLCAnaWQnLCBzbWlsZXNfY29sdW1uLCB0YXJnZXRfY29sdW1uXSkudG9QYW5kYXMoKQpkZl90ZXN0WydwcmVkJ10gPSBucC5jb25jYXRlbmF0ZSh0ZXN0X3ByZWRzLCBheGlzPTApCmRmX3Rlc3RbJ3ByZWRfcm91bmQnXSA9IGRmX3Rlc3RbJ3ByZWQnXS5yb3VuZCgwKQpkZl90ZXN0WydDbGluVG94X3JvdW5kJ10gPSBkZl90ZXN0WydDbGluVG94J10ucm91bmQoMCkKZGZfdGVzdCA9IHNwYXJrLmNyZWF0ZURhdGFGcmFtZShkZl90ZXN0KQpkaXNwbGF5KGRmX3Rlc3Qp\").decode())\n\ntry:\n    # run user code\n    __backend_agg_user_code_fn()\n\n    #reset display function\n    display = __backend_agg_display_orig\n\n    if len(__backend_agg_dfs) > 0:\n        # create a temp view\n        if type(__backend_agg_dfs[0]).__module__ == \"databricks.koalas.frame\":\n            # koalas dataframe\n            __backend_agg_dfs[0].to_spark().createOrReplaceTempView(\"DatabricksView06e6c7e\")\n        elif type(__backend_agg_dfs[0]).__module__ == \"pandas.core.frame\" or isinstance(__backend_agg_dfs[0], list):\n            # pandas dataframe\n            spark.createDataFrame(__backend_agg_dfs[0]).createOrReplaceTempView(\"DatabricksView06e6c7e\")\n        else:\n            __backend_agg_dfs[0].createOrReplaceTempView(\"DatabricksView06e6c7e\")\n        #run backend agg\n        display(spark.sql(\"\"\"WITH q AS (select * from DatabricksView06e6c7e) SELECT `pred_round`,`ClinTox_round`,COUNT(`ClinTox`) `ClinTox_alias` FROM q GROUP BY `ClinTox_round`,`pred_round` ORDER BY `pred_round` ASC,`ClinTox_round` ASC\"\"\"))\n    else:\n        displayHTML(\"dataframe no longer exists. If you're using dataframe.display(), use display(dataframe) instead.\")\n\n\nfinally:\n    spark.sql(\"drop view if exists DatabricksView06e6c7e\")\n    display = __backend_agg_display_orig\n    del __backend_agg_display_new\n    del __backend_agg_display_orig\n    del __backend_agg_dfs\n    del __backend_agg_user_code_fn\n\n",
       "commandTitle": "Visualization 1",
       "commandType": "auto",
       "commandVersion": 0,
       "commentThread": [],
       "commentsVisible": false,
       "contentSha256Hex": null,
       "customPlotOptions": {
        "redashChart": [
         {
          "key": "type",
          "value": "PIVOT_TABLE"
         },
         {
          "key": "options",
          "value": {
           "cell": {
            "field": "ClinTox",
            "transform": {
             "fn": "count"
            }
           },
           "columns": [
            {
             "field": "ClinTox_round",
             "sort": "ascending"
            }
           ],
           "rows": [
            {
             "field": "pred_round",
             "sort": "ascending"
            }
           ]
          }
         }
        ]
       },
       "datasetPreviewNameToCmdIdMap": {},
       "diffDeletes": [],
       "diffInserts": [],
       "displayType": "redashChart",
       "error": null,
       "errorDetails": null,
       "errorSummary": null,
       "errorTraceType": null,
       "finishTime": 0,
       "globalVars": {},
       "guid": "",
       "height": "auto",
       "hideCommandCode": false,
       "hideCommandResult": false,
       "iPythonMetadata": null,
       "inputWidgets": {},
       "isLockedInExamMode": false,
       "latestUser": "a user",
       "latestUserId": null,
       "listResultMetadata": null,
       "metadata": {
        "byteLimit": 2048000,
        "rowLimit": 10000
       },
       "nuid": "4da85b0c-ffe5-4c21-92a7-3c5c0bcef3b4",
       "origId": 0,
       "parentHierarchy": [],
       "pivotAggregation": null,
       "pivotColumns": null,
       "position": 11.0,
       "resultDbfsErrorMessage": null,
       "resultDbfsStatus": "INLINED_IN_TREE",
       "results": null,
       "showCommandTitle": false,
       "startTime": 0,
       "state": "input",
       "streamStates": {},
       "subcommandOptions": {
        "queryPlan": {
         "groups": [
          {
           "column": "pred_round",
           "type": "column"
          },
          {
           "column": "ClinTox_round",
           "type": "column"
          }
         ],
         "order_by": [
          {
           "direction": "asc",
           "expression": {
            "identifier": "pred_round",
            "kind": "identifier"
           }
          },
          {
           "direction": "asc",
           "expression": {
            "identifier": "ClinTox_round",
            "kind": "identifier"
           }
          }
         ],
         "selects": [
          {
           "column": "pred_round",
           "type": "column"
          },
          {
           "column": "ClinTox_round",
           "type": "column"
          },
          {
           "alias": "ClinTox_alias",
           "args": [
            {
             "column": "ClinTox",
             "type": "column"
            }
           ],
           "function": "COUNT",
           "type": "function"
          }
         ]
        }
       },
       "submitTime": 0,
       "subtype": "tableResultSubCmd.visualization",
       "tableResultIndex": 0,
       "tableResultSettingsMap": {},
       "useConsistentColors": false,
       "version": "CommandV1",
       "width": "auto",
       "workflows": null,
       "xColumns": null,
       "yColumns": null
      }
     },
     "output_type": "display_data"
    }
   ],
   "source": [
    "df_test = df.select(['name', 'id', smiles_column, target_column]).toPandas()\n",
    "df_test['pred'] = np.concatenate(test_preds, axis=0)\n",
    "df_test['pred_round'] = df_test['pred'].round(0)\n",
    "df_test['ClinTox_round'] = df_test['ClinTox'].round(0)\n",
    "df_test = spark.createDataFrame(df_test)\n",
    "display(df_test)"
   ]
  },
  {
   "cell_type": "code",
   "execution_count": 0,
   "metadata": {
    "application/vnd.databricks.v1+cell": {
     "cellMetadata": {
      "byteLimit": 2048000,
      "rowLimit": 10000
     },
     "inputWidgets": {},
     "nuid": "9032206b-1a71-4659-a024-2da562e6c240",
     "showTitle": false,
     "tableResultSettingsMap": {},
     "title": ""
    }
   },
   "outputs": [],
   "source": []
  }
 ],
 "metadata": {
  "application/vnd.databricks.v1+notebook": {
   "computePreferences": null,
   "dashboards": [],
   "environmentMetadata": {
    "base_environment": "",
    "client": "1"
   },
   "language": "python",
   "notebookMetadata": {
    "pythonIndentUnit": 4
   },
   "notebookName": "Chemprop: inference clintox",
   "widgets": {}
  },
  "language_info": {
   "name": "python"
  }
 },
 "nbformat": 4,
 "nbformat_minor": 0
}
